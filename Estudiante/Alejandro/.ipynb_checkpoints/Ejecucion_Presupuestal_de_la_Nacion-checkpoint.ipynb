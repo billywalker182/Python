{
 "cells": [
  {
   "cell_type": "code",
   "execution_count": 3,
   "metadata": {},
   "outputs": [],
   "source": [
    "import pandas as pd"
   ]
  },
  {
   "cell_type": "code",
   "execution_count": 6,
   "metadata": {},
   "outputs": [
    {
     "name": "stdout",
     "output_type": "stream",
     "text": [
      "Ingrese nombre del archivo2019\n"
     ]
    },
    {
     "data": {
      "text/html": [
       "<div>\n",
       "<style scoped>\n",
       "    .dataframe tbody tr th:only-of-type {\n",
       "        vertical-align: middle;\n",
       "    }\n",
       "\n",
       "    .dataframe tbody tr th {\n",
       "        vertical-align: top;\n",
       "    }\n",
       "\n",
       "    .dataframe thead th {\n",
       "        text-align: right;\n",
       "    }\n",
       "</style>\n",
       "<table border=\"1\" class=\"dataframe\">\n",
       "  <thead>\n",
       "    <tr style=\"text-align: right;\">\n",
       "      <th></th>\n",
       "      <th>NombreEntidad</th>\n",
       "      <th>Departamento</th>\n",
       "      <th>Ciudad</th>\n",
       "      <th>Sector</th>\n",
       "      <th>Rama</th>\n",
       "      <th>DestinoGasto</th>\n",
       "      <th>EstadoContrato</th>\n",
       "      <th>DescripciondelProceso</th>\n",
       "      <th>TipodeContrato</th>\n",
       "      <th>ModalidaddeContratacion</th>\n",
       "      <th>...</th>\n",
       "      <th>FechadeFindelContrato</th>\n",
       "      <th>TipoDocProveedor</th>\n",
       "      <th>ProveedorAdjudicado</th>\n",
       "      <th>EsGrupo</th>\n",
       "      <th>EsPyme</th>\n",
       "      <th>ValordelContrato</th>\n",
       "      <th>ValorPendientedePago</th>\n",
       "      <th>ValorPagado</th>\n",
       "      <th>DiasAdicionados</th>\n",
       "      <th>Anho</th>\n",
       "    </tr>\n",
       "  </thead>\n",
       "  <tbody>\n",
       "    <tr>\n",
       "      <th>0</th>\n",
       "      <td>CORPOAMAZONIA - CORPORACION PARA EL DESARROLLO...</td>\n",
       "      <td>Putumayo</td>\n",
       "      <td>Mocoa</td>\n",
       "      <td>Ambiente y Desarrollo Sostenible</td>\n",
       "      <td>Corporacion Autonoma</td>\n",
       "      <td>Inversion</td>\n",
       "      <td>Activo</td>\n",
       "      <td>Prestar sus servicios profesionales a la Entid...</td>\n",
       "      <td>Prestacion de servicios</td>\n",
       "      <td>Contratacion directa</td>\n",
       "      <td>...</td>\n",
       "      <td>2019-08-20</td>\n",
       "      <td>Cedula de Ciudadania</td>\n",
       "      <td>Karen Dayana Montenegro Chiran</td>\n",
       "      <td>False</td>\n",
       "      <td>False</td>\n",
       "      <td>12.250</td>\n",
       "      <td>12.250</td>\n",
       "      <td>0.0</td>\n",
       "      <td>0.0</td>\n",
       "      <td>2019.0</td>\n",
       "    </tr>\n",
       "    <tr>\n",
       "      <th>1</th>\n",
       "      <td>SECRETARIA DISTRITAL DE SEGURIDAD  CONVIVENCIA...</td>\n",
       "      <td>Distrito Capital de Bogota</td>\n",
       "      <td>No Definido</td>\n",
       "      <td>No aplica/No pertenece</td>\n",
       "      <td>Ejecutivo</td>\n",
       "      <td>Inversion</td>\n",
       "      <td>Modificado</td>\n",
       "      <td>PRESTAR LOS SERVICIOS PROFESIONALES EN DERECHO...</td>\n",
       "      <td>Prestacion de servicios</td>\n",
       "      <td>Contratacion directa</td>\n",
       "      <td>...</td>\n",
       "      <td>2020-04-30</td>\n",
       "      <td>Cedula de Ciudadania</td>\n",
       "      <td>YENNY PAOLIN DAZA GUTIERREZ</td>\n",
       "      <td>False</td>\n",
       "      <td>False</td>\n",
       "      <td>63.963</td>\n",
       "      <td>63.963</td>\n",
       "      <td>0.0</td>\n",
       "      <td>91.0</td>\n",
       "      <td>2019.0</td>\n",
       "    </tr>\n",
       "    <tr>\n",
       "      <th>2</th>\n",
       "      <td>ALCALDIA MUNICIPAL FUSAGASUGA</td>\n",
       "      <td>Cundinamarca</td>\n",
       "      <td>Fusagasuga</td>\n",
       "      <td>No aplica/No pertenece</td>\n",
       "      <td>Ejecutivo</td>\n",
       "      <td>Inversion</td>\n",
       "      <td>Activo</td>\n",
       "      <td>SERVICIOS PROFESIONALES PARA EL FORTALECIMIENT...</td>\n",
       "      <td>Prestacion de servicios</td>\n",
       "      <td>Contratacion directa</td>\n",
       "      <td>...</td>\n",
       "      <td>2019-12-27</td>\n",
       "      <td>Cedula de Ciudadania</td>\n",
       "      <td>Sandra milena Gutierrez Castanho</td>\n",
       "      <td>False</td>\n",
       "      <td>True</td>\n",
       "      <td>30.723</td>\n",
       "      <td>30.723</td>\n",
       "      <td>0.0</td>\n",
       "      <td>0.0</td>\n",
       "      <td>2019.0</td>\n",
       "    </tr>\n",
       "    <tr>\n",
       "      <th>3</th>\n",
       "      <td>INSTITUTO DISTRITAL DE LA PARTICIPACION Y ACCI...</td>\n",
       "      <td>Distrito Capital de Bogota</td>\n",
       "      <td>No Definido</td>\n",
       "      <td>Inclusion Social y Reconciliacion</td>\n",
       "      <td>Ejecutivo</td>\n",
       "      <td>Inversion</td>\n",
       "      <td>Modificado</td>\n",
       "      <td>Prestar los servicios profesionales  con auton...</td>\n",
       "      <td>Prestacion de servicios</td>\n",
       "      <td>Contratacion directa</td>\n",
       "      <td>...</td>\n",
       "      <td>2019-12-31</td>\n",
       "      <td>Cedula de Ciudadania</td>\n",
       "      <td>ANGELA LUCIA HERNANDEZ PINHEROS</td>\n",
       "      <td>False</td>\n",
       "      <td>False</td>\n",
       "      <td>57.200</td>\n",
       "      <td>0.000</td>\n",
       "      <td>57.2</td>\n",
       "      <td>15.0</td>\n",
       "      <td>2019.0</td>\n",
       "    </tr>\n",
       "    <tr>\n",
       "      <th>4</th>\n",
       "      <td>COMPLEJO CARCELARIO Y PENITENCIARIO DE IBAGUE ...</td>\n",
       "      <td>Tolima</td>\n",
       "      <td>Ibague</td>\n",
       "      <td>Ley de Justicia</td>\n",
       "      <td>Ejecutivo</td>\n",
       "      <td>Funcionamiento</td>\n",
       "      <td>Activo</td>\n",
       "      <td>FIN CONTRATAR LA ADQUISICION DE ELEMENTOS DE O...</td>\n",
       "      <td>Compraventa</td>\n",
       "      <td>Minima cuantia</td>\n",
       "      <td>...</td>\n",
       "      <td>2019-07-30</td>\n",
       "      <td>NIT</td>\n",
       "      <td>DISTRIBUCIONES ALIADAS BJ SAS</td>\n",
       "      <td>False</td>\n",
       "      <td>True</td>\n",
       "      <td>24.000</td>\n",
       "      <td>24.000</td>\n",
       "      <td>0.0</td>\n",
       "      <td>0.0</td>\n",
       "      <td>2019.0</td>\n",
       "    </tr>\n",
       "  </tbody>\n",
       "</table>\n",
       "<p>5 rows × 22 columns</p>\n",
       "</div>"
      ],
      "text/plain": [
       "                                       NombreEntidad  \\\n",
       "0  CORPOAMAZONIA - CORPORACION PARA EL DESARROLLO...   \n",
       "1  SECRETARIA DISTRITAL DE SEGURIDAD  CONVIVENCIA...   \n",
       "2                      ALCALDIA MUNICIPAL FUSAGASUGA   \n",
       "3  INSTITUTO DISTRITAL DE LA PARTICIPACION Y ACCI...   \n",
       "4  COMPLEJO CARCELARIO Y PENITENCIARIO DE IBAGUE ...   \n",
       "\n",
       "                 Departamento       Ciudad                             Sector  \\\n",
       "0                    Putumayo        Mocoa   Ambiente y Desarrollo Sostenible   \n",
       "1  Distrito Capital de Bogota  No Definido             No aplica/No pertenece   \n",
       "2                Cundinamarca   Fusagasuga             No aplica/No pertenece   \n",
       "3  Distrito Capital de Bogota  No Definido  Inclusion Social y Reconciliacion   \n",
       "4                      Tolima       Ibague                    Ley de Justicia   \n",
       "\n",
       "                   Rama    DestinoGasto EstadoContrato  \\\n",
       "0  Corporacion Autonoma       Inversion         Activo   \n",
       "1             Ejecutivo       Inversion     Modificado   \n",
       "2             Ejecutivo       Inversion         Activo   \n",
       "3             Ejecutivo       Inversion     Modificado   \n",
       "4             Ejecutivo  Funcionamiento         Activo   \n",
       "\n",
       "                               DescripciondelProceso           TipodeContrato  \\\n",
       "0  Prestar sus servicios profesionales a la Entid...  Prestacion de servicios   \n",
       "1  PRESTAR LOS SERVICIOS PROFESIONALES EN DERECHO...  Prestacion de servicios   \n",
       "2  SERVICIOS PROFESIONALES PARA EL FORTALECIMIENT...  Prestacion de servicios   \n",
       "3  Prestar los servicios profesionales  con auton...  Prestacion de servicios   \n",
       "4  FIN CONTRATAR LA ADQUISICION DE ELEMENTOS DE O...              Compraventa   \n",
       "\n",
       "  ModalidaddeContratacion  ... FechadeFindelContrato      TipoDocProveedor  \\\n",
       "0    Contratacion directa  ...            2019-08-20  Cedula de Ciudadania   \n",
       "1    Contratacion directa  ...            2020-04-30  Cedula de Ciudadania   \n",
       "2    Contratacion directa  ...            2019-12-27  Cedula de Ciudadania   \n",
       "3    Contratacion directa  ...            2019-12-31  Cedula de Ciudadania   \n",
       "4          Minima cuantia  ...            2019-07-30                   NIT   \n",
       "\n",
       "                ProveedorAdjudicado EsGrupo EsPyme  ValordelContrato  \\\n",
       "0    Karen Dayana Montenegro Chiran   False  False            12.250   \n",
       "1       YENNY PAOLIN DAZA GUTIERREZ   False  False            63.963   \n",
       "2  Sandra milena Gutierrez Castanho   False   True            30.723   \n",
       "3   ANGELA LUCIA HERNANDEZ PINHEROS   False  False            57.200   \n",
       "4     DISTRIBUCIONES ALIADAS BJ SAS   False   True            24.000   \n",
       "\n",
       "   ValorPendientedePago  ValorPagado  DiasAdicionados    Anho  \n",
       "0                12.250          0.0              0.0  2019.0  \n",
       "1                63.963          0.0             91.0  2019.0  \n",
       "2                30.723          0.0              0.0  2019.0  \n",
       "3                 0.000         57.2             15.0  2019.0  \n",
       "4                24.000          0.0              0.0  2019.0  \n",
       "\n",
       "[5 rows x 22 columns]"
      ]
     },
     "execution_count": 6,
     "metadata": {},
     "output_type": "execute_result"
    }
   ],
   "source": [
    "archivo = input(\"Ingrese nombre del archivo\")\n",
    "data = pd.read_csv(archivo+\".csv\")\n",
    "data.head()"
   ]
  },
  {
   "cell_type": "code",
   "execution_count": 7,
   "metadata": {},
   "outputs": [
    {
     "data": {
      "text/plain": [
       "(139028, 22)"
      ]
     },
     "execution_count": 7,
     "metadata": {},
     "output_type": "execute_result"
    }
   ],
   "source": [
    "data.shape"
   ]
  },
  {
   "cell_type": "code",
   "execution_count": 9,
   "metadata": {},
   "outputs": [
    {
     "data": {
      "text/plain": [
       "['NombreEntidad',\n",
       " 'Departamento',\n",
       " 'Ciudad',\n",
       " 'Sector',\n",
       " 'Rama',\n",
       " 'DestinoGasto',\n",
       " 'EstadoContrato',\n",
       " 'DescripciondelProceso',\n",
       " 'TipodeContrato',\n",
       " 'ModalidaddeContratacion',\n",
       " 'FechadeFirma',\n",
       " 'FechadeIniciodelContrato',\n",
       " 'FechadeFindelContrato',\n",
       " 'TipoDocProveedor',\n",
       " 'ProveedorAdjudicado',\n",
       " 'EsGrupo',\n",
       " 'EsPyme',\n",
       " 'ValordelContrato',\n",
       " 'ValorPendientedePago',\n",
       " 'ValorPagado',\n",
       " 'DiasAdicionados',\n",
       " 'Anho']"
      ]
     },
     "execution_count": 9,
     "metadata": {},
     "output_type": "execute_result"
    }
   ],
   "source": [
    "column_data = data.columns.values.tolist()\n",
    "column_data"
   ]
  },
  {
   "cell_type": "code",
   "execution_count": 10,
   "metadata": {},
   "outputs": [
    {
     "data": {
      "text/html": [
       "<div>\n",
       "<style scoped>\n",
       "    .dataframe tbody tr th:only-of-type {\n",
       "        vertical-align: middle;\n",
       "    }\n",
       "\n",
       "    .dataframe tbody tr th {\n",
       "        vertical-align: top;\n",
       "    }\n",
       "\n",
       "    .dataframe thead th {\n",
       "        text-align: right;\n",
       "    }\n",
       "</style>\n",
       "<table border=\"1\" class=\"dataframe\">\n",
       "  <thead>\n",
       "    <tr style=\"text-align: right;\">\n",
       "      <th></th>\n",
       "      <th>ValordelContrato</th>\n",
       "      <th>ValorPendientedePago</th>\n",
       "      <th>ValorPagado</th>\n",
       "      <th>DiasAdicionados</th>\n",
       "      <th>Anho</th>\n",
       "    </tr>\n",
       "  </thead>\n",
       "  <tbody>\n",
       "    <tr>\n",
       "      <th>count</th>\n",
       "      <td>139028.000000</td>\n",
       "      <td>139028.000000</td>\n",
       "      <td>139028.000000</td>\n",
       "      <td>139028.000000</td>\n",
       "      <td>139028.0</td>\n",
       "    </tr>\n",
       "    <tr>\n",
       "      <th>mean</th>\n",
       "      <td>182.015682</td>\n",
       "      <td>171.050030</td>\n",
       "      <td>23.006744</td>\n",
       "      <td>1.273283</td>\n",
       "      <td>2019.0</td>\n",
       "    </tr>\n",
       "    <tr>\n",
       "      <th>std</th>\n",
       "      <td>3612.533321</td>\n",
       "      <td>3839.299928</td>\n",
       "      <td>415.357936</td>\n",
       "      <td>13.035735</td>\n",
       "      <td>0.0</td>\n",
       "    </tr>\n",
       "    <tr>\n",
       "      <th>min</th>\n",
       "      <td>0.000000</td>\n",
       "      <td>-47.780039</td>\n",
       "      <td>0.000000</td>\n",
       "      <td>0.000000</td>\n",
       "      <td>2019.0</td>\n",
       "    </tr>\n",
       "    <tr>\n",
       "      <th>25%</th>\n",
       "      <td>13.651000</td>\n",
       "      <td>4.326000</td>\n",
       "      <td>0.000000</td>\n",
       "      <td>0.000000</td>\n",
       "      <td>2019.0</td>\n",
       "    </tr>\n",
       "    <tr>\n",
       "      <th>50%</th>\n",
       "      <td>27.792434</td>\n",
       "      <td>17.950925</td>\n",
       "      <td>0.000000</td>\n",
       "      <td>0.000000</td>\n",
       "      <td>2019.0</td>\n",
       "    </tr>\n",
       "    <tr>\n",
       "      <th>75%</th>\n",
       "      <td>55.000000</td>\n",
       "      <td>43.142867</td>\n",
       "      <td>4.000000</td>\n",
       "      <td>0.000000</td>\n",
       "      <td>2019.0</td>\n",
       "    </tr>\n",
       "    <tr>\n",
       "      <th>max</th>\n",
       "      <td>685636.968401</td>\n",
       "      <td>685636.968401</td>\n",
       "      <td>58180.334144</td>\n",
       "      <td>1096.000000</td>\n",
       "      <td>2019.0</td>\n",
       "    </tr>\n",
       "  </tbody>\n",
       "</table>\n",
       "</div>"
      ],
      "text/plain": [
       "       ValordelContrato  ValorPendientedePago    ValorPagado  DiasAdicionados  \\\n",
       "count     139028.000000         139028.000000  139028.000000    139028.000000   \n",
       "mean         182.015682            171.050030      23.006744         1.273283   \n",
       "std         3612.533321           3839.299928     415.357936        13.035735   \n",
       "min            0.000000            -47.780039       0.000000         0.000000   \n",
       "25%           13.651000              4.326000       0.000000         0.000000   \n",
       "50%           27.792434             17.950925       0.000000         0.000000   \n",
       "75%           55.000000             43.142867       4.000000         0.000000   \n",
       "max       685636.968401         685636.968401   58180.334144      1096.000000   \n",
       "\n",
       "           Anho  \n",
       "count  139028.0  \n",
       "mean     2019.0  \n",
       "std         0.0  \n",
       "min      2019.0  \n",
       "25%      2019.0  \n",
       "50%      2019.0  \n",
       "75%      2019.0  \n",
       "max      2019.0  "
      ]
     },
     "execution_count": 10,
     "metadata": {},
     "output_type": "execute_result"
    }
   ],
   "source": [
    "data.describe()"
   ]
  },
  {
   "cell_type": "code",
   "execution_count": 11,
   "metadata": {},
   "outputs": [
    {
     "data": {
      "text/plain": [
       "array(['CORPOAMAZONIA - CORPORACION PARA EL DESARROLLO SOSTENIBLE DEL SUR DE LA AMAZONIA',\n",
       "       'SECRETARIA DISTRITAL DE SEGURIDAD  CONVIVENCIA Y JUSTICIA',\n",
       "       'ALCALDIA MUNICIPAL FUSAGASUGA', ...,\n",
       "       'ESTABLECIMIENTO PENITENCIARIO Y CARCELARIO SAN ANDRES INPEC',\n",
       "       'ICBF REGIONAL CESAR', 'ALCALDIA MUNICIPIO PAIME'], dtype=object)"
      ]
     },
     "execution_count": 11,
     "metadata": {},
     "output_type": "execute_result"
    }
   ],
   "source": [
    "data.NombreEntidad.unique()"
   ]
  },
  {
   "cell_type": "code",
   "execution_count": 12,
   "metadata": {},
   "outputs": [
    {
     "data": {
      "text/plain": [
       "array(['Putumayo', 'Distrito Capital de Bogota', 'Cundinamarca', 'Tolima',\n",
       "       'Valle del Cauca', 'Casanare', 'Risaralda', 'Meta', 'Antioquia',\n",
       "       'Caqueta', 'Santander', 'Atlantico', 'Norte de Santander',\n",
       "       'Bolivar', 'Caldas', 'Huila', 'La Guajira', 'Vichada', 'Boyaca',\n",
       "       'Cesar', 'No Definido', 'San Andres, Providencia y Santa Catalina',\n",
       "       'Cauca', 'Guaviare', 'Narinho', 'Cordoba', 'Amazonas', 'Quindio',\n",
       "       'Magdalena', 'Sucre', 'Guainia', 'Arauca', 'Choco', 'Vaupes'],\n",
       "      dtype=object)"
      ]
     },
     "execution_count": 12,
     "metadata": {},
     "output_type": "execute_result"
    }
   ],
   "source": [
    "data.Departamento.unique()"
   ]
  },
  {
   "cell_type": "code",
   "execution_count": 14,
   "metadata": {},
   "outputs": [
    {
     "data": {
      "text/plain": [
       "array(['Ambiente y Desarrollo Sostenible', 'No aplica/No pertenece',\n",
       "       'Inclusion Social y Reconciliacion', 'Ley de Justicia',\n",
       "       'Hacienda y Credito Publico', 'Salud y Proteccion Social',\n",
       "       'Planeacion', 'Cultura', 'defensa', 'deportes',\n",
       "       'Educacion Nacional', 'Servicio Publico', 'interior', 'Trabajo',\n",
       "       'Transporte', 'agricultura', 'Vivienda, Ciudad y Territorio',\n",
       "       'Minas y Energia', 'Informacion Estadistica', 'Ciencia Tecnologia',\n",
       "       'Presidencia de la Republica', 'Industria',\n",
       "       'Tecnologias de la Informacion y las Comunicaciones',\n",
       "       'Relaciones Exteriores',\n",
       "       'Inteligencia Estrategica y Contrainteligencia'], dtype=object)"
      ]
     },
     "execution_count": 14,
     "metadata": {},
     "output_type": "execute_result"
    }
   ],
   "source": [
    "data.Sector.unique()"
   ]
  },
  {
   "cell_type": "code",
   "execution_count": 15,
   "metadata": {},
   "outputs": [
    {
     "data": {
      "text/plain": [
       "array(['Corporacion Autonoma', 'Ejecutivo', 'Judicial', 'Legislativo'],\n",
       "      dtype=object)"
      ]
     },
     "execution_count": 15,
     "metadata": {},
     "output_type": "execute_result"
    }
   ],
   "source": [
    "data.Rama.unique()"
   ]
  },
  {
   "cell_type": "code",
   "execution_count": 16,
   "metadata": {},
   "outputs": [
    {
     "data": {
      "text/plain": [
       "array(['Inversion', 'Funcionamiento', 'No Definido'], dtype=object)"
      ]
     },
     "execution_count": 16,
     "metadata": {},
     "output_type": "execute_result"
    }
   ],
   "source": [
    "data.DestinoGasto.unique()"
   ]
  },
  {
   "cell_type": "code",
   "execution_count": 17,
   "metadata": {},
   "outputs": [
    {
     "data": {
      "text/plain": [
       "array([2019.])"
      ]
     },
     "execution_count": 17,
     "metadata": {},
     "output_type": "execute_result"
    }
   ],
   "source": [
    "data.Anho.unique()"
   ]
  },
  {
   "cell_type": "code",
   "execution_count": null,
   "metadata": {},
   "outputs": [],
   "source": []
  }
 ],
 "metadata": {
  "kernelspec": {
   "display_name": "Python 3",
   "language": "python",
   "name": "python3"
  },
  "language_info": {
   "codemirror_mode": {
    "name": "ipython",
    "version": 3
   },
   "file_extension": ".py",
   "mimetype": "text/x-python",
   "name": "python",
   "nbconvert_exporter": "python",
   "pygments_lexer": "ipython3",
   "version": "3.7.4"
  }
 },
 "nbformat": 4,
 "nbformat_minor": 2
}
